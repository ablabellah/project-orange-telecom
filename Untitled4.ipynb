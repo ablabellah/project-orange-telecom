{
 "cells": [
  {
   "cell_type": "code",
   "execution_count": 62,
   "id": "2319ba75-2518-488c-a713-065ca82f451c",
   "metadata": {},
   "outputs": [],
   "source": [
    "import pandas as pd\n",
    "from datetime import datetime\n",
    "import numpy as np\n",
    "import matplotlib.pyplot as plt\n",
    "import seaborn as sns"
   ]
  },
  {
   "cell_type": "code",
   "execution_count": 97,
   "id": "5b283234-3256-456b-8579-521161cea06e",
   "metadata": {},
   "outputs": [],
   "source": [
    "df = pd.read_excel(r'C:\\Users\\ablab\\OneDrive\\Desktop\\math_project_2\\orange-telecom.xlsx')"
   ]
  },
  {
   "cell_type": "code",
   "execution_count": 98,
   "id": "3da190be-fb9a-465f-be22-604a50f2998f",
   "metadata": {},
   "outputs": [
    {
     "data": {
      "text/plain": [
       "Index(['Année de réalisation', 'Date début', 'Nature Entité', 'Ville',\n",
       "       'Administration', 'Nom de projet', 'Nature du Document',\n",
       "       'Distance Autorisation / ml', 'Redevance / ml', 'Nombre de chambres',\n",
       "       'Redevance / Chambre', 'Total Redevance', 'Autorisation', 'Date Fin',\n",
       "       'Programme', 'Durée en jours', 'Année '],\n",
       "      dtype='object')"
      ]
     },
     "execution_count": 98,
     "metadata": {},
     "output_type": "execute_result"
    }
   ],
   "source": [
    "df.columns"
   ]
  },
  {
   "cell_type": "code",
   "execution_count": 86,
   "id": "8a01c4f8-782c-4ea7-a6cc-27e63851c133",
   "metadata": {},
   "outputs": [
    {
     "data": {
      "text/plain": [
       "Année                                 object\n",
       "Date début                    datetime64[ns]\n",
       "Nature Entité                         object\n",
       "Ville                                 object\n",
       "Administration                        object\n",
       "Nom de projet                         object\n",
       "Nature du Document                    object\n",
       "Distance Autorisation / ml           float64\n",
       "Redevance / ml                       float64\n",
       "Nombre de chambres                   float64\n",
       "Redevance / Chambre                  float64\n",
       "Total Redevance                      float64\n",
       "Autorisation                          object\n",
       "Date Fin                      datetime64[ns]\n",
       "Programme                             object\n",
       "Durée en jours                         int64\n",
       "dtype: object"
      ]
     },
     "execution_count": 86,
     "metadata": {},
     "output_type": "execute_result"
    }
   ],
   "source": [
    "df.dtypes"
   ]
  },
  {
   "cell_type": "code",
   "execution_count": 87,
   "id": "b24874fb-a6ac-4b15-8f6b-5e169546506b",
   "metadata": {},
   "outputs": [],
   "source": [
    "# Calculer la différence en jours\n",
    "df['Durée en jours'] = (df['Date Fin'] - df['Date début']).dt.days\n"
   ]
  },
  {
   "cell_type": "code",
   "execution_count": 89,
   "id": "b827a54e-f2b9-4c7b-bd8e-508de577b84f",
   "metadata": {},
   "outputs": [
    {
     "name": "stdout",
     "output_type": "stream",
     "text": [
      "     Date début   Date Fin  Durée en jours\n",
      "1693 2023-06-22 2022-07-13            -344\n",
      "1694 2023-06-22 2022-07-13            -344\n"
     ]
    }
   ],
   "source": [
    "# Vérifier les durées négatives\n",
    "neg_durations = df[df['Durée en jours'] < 0]\n",
    "print(neg_durations[['Date début', 'Date Fin', 'Durée en jours']])\n"
   ]
  },
  {
   "cell_type": "code",
   "execution_count": 90,
   "id": "8bce2cb8-3352-471b-b670-8b6844afb62b",
   "metadata": {},
   "outputs": [],
   "source": [
    "# Supprimer les lignes avec des durées négatives\n",
    "df = df[df['Durée en jours'] >= 0]\n"
   ]
  },
  {
   "cell_type": "code",
   "execution_count": 91,
   "id": "7159e6fb-dca7-4ad1-b202-3603b0593a03",
   "metadata": {},
   "outputs": [
    {
     "name": "stdout",
     "output_type": "stream",
     "text": [
      "Empty DataFrame\n",
      "Columns: [Date début, Date Fin, Durée en jours]\n",
      "Index: []\n"
     ]
    }
   ],
   "source": [
    "# Vérifier les durées négatives\n",
    "neg_durations = df[df['Durée en jours'] < 0]\n",
    "print(neg_durations[['Date début', 'Date Fin', 'Durée en jours']])\n"
   ]
  },
  {
   "cell_type": "code",
   "execution_count": 92,
   "id": "4d3a8ef5-cf50-42e6-b943-b28f818e1c63",
   "metadata": {},
   "outputs": [
    {
     "name": "stdout",
     "output_type": "stream",
     "text": [
      "Année                         0\n",
      "Date début                    0\n",
      "Nature Entité                 0\n",
      "Ville                         0\n",
      "Administration                0\n",
      "Nom de projet                 0\n",
      "Nature du Document            0\n",
      "Distance Autorisation / ml    0\n",
      "Redevance / ml                0\n",
      "Nombre de chambres            0\n",
      "Redevance / Chambre           0\n",
      "Total Redevance               0\n",
      "Autorisation                  0\n",
      "Date Fin                      0\n",
      "Programme                     0\n",
      "Durée en jours                0\n",
      "dtype: int64\n"
     ]
    }
   ],
   "source": [
    "print(df.isnull().sum())\n"
   ]
  },
  {
   "cell_type": "code",
   "execution_count": 93,
   "id": "ba0b2bf9-4ecd-4414-84fe-8cc8107a1714",
   "metadata": {},
   "outputs": [
    {
     "data": {
      "text/html": [
       "<div>\n",
       "<style scoped>\n",
       "    .dataframe tbody tr th:only-of-type {\n",
       "        vertical-align: middle;\n",
       "    }\n",
       "\n",
       "    .dataframe tbody tr th {\n",
       "        vertical-align: top;\n",
       "    }\n",
       "\n",
       "    .dataframe thead th {\n",
       "        text-align: right;\n",
       "    }\n",
       "</style>\n",
       "<table border=\"1\" class=\"dataframe\">\n",
       "  <thead>\n",
       "    <tr style=\"text-align: right;\">\n",
       "      <th></th>\n",
       "      <th>Année</th>\n",
       "      <th>Date début</th>\n",
       "      <th>Nature Entité</th>\n",
       "      <th>Ville</th>\n",
       "      <th>Administration</th>\n",
       "      <th>Nom de projet</th>\n",
       "      <th>Nature du Document</th>\n",
       "      <th>Distance Autorisation / ml</th>\n",
       "      <th>Redevance / ml</th>\n",
       "      <th>Nombre de chambres</th>\n",
       "      <th>Redevance / Chambre</th>\n",
       "      <th>Total Redevance</th>\n",
       "      <th>Autorisation</th>\n",
       "      <th>Date Fin</th>\n",
       "      <th>Programme</th>\n",
       "      <th>Durée en jours</th>\n",
       "    </tr>\n",
       "  </thead>\n",
       "  <tbody>\n",
       "    <tr>\n",
       "      <th>0</th>\n",
       "      <td>2023</td>\n",
       "      <td>2023-10-02</td>\n",
       "      <td>CU</td>\n",
       "      <td>Laayoune</td>\n",
       "      <td>CU Laayoune</td>\n",
       "      <td>Laayoune Centre A1</td>\n",
       "      <td>Autorisation N°23/370</td>\n",
       "      <td>1089.0</td>\n",
       "      <td>6.0</td>\n",
       "      <td>16.0</td>\n",
       "      <td>100.0</td>\n",
       "      <td>8134.0</td>\n",
       "      <td>Autre</td>\n",
       "      <td>2024-01-02</td>\n",
       "      <td>VULA</td>\n",
       "      <td>92</td>\n",
       "    </tr>\n",
       "    <tr>\n",
       "      <th>1</th>\n",
       "      <td>2023</td>\n",
       "      <td>2023-10-02</td>\n",
       "      <td>CU</td>\n",
       "      <td>Laayoune</td>\n",
       "      <td>CU Laayoune</td>\n",
       "      <td>LAA005</td>\n",
       "      <td>Autorisation N°23/369</td>\n",
       "      <td>1750.0</td>\n",
       "      <td>6.0</td>\n",
       "      <td>25.0</td>\n",
       "      <td>100.0</td>\n",
       "      <td>13000.0</td>\n",
       "      <td>Autre</td>\n",
       "      <td>2024-01-02</td>\n",
       "      <td>FTTS</td>\n",
       "      <td>92</td>\n",
       "    </tr>\n",
       "    <tr>\n",
       "      <th>2</th>\n",
       "      <td>2019</td>\n",
       "      <td>2019-11-18</td>\n",
       "      <td>CU</td>\n",
       "      <td>Laayoune</td>\n",
       "      <td>CU Laayoune</td>\n",
       "      <td>LAA004</td>\n",
       "      <td>Autorisation N°18/758</td>\n",
       "      <td>1900.0</td>\n",
       "      <td>6.0</td>\n",
       "      <td>5.0</td>\n",
       "      <td>100.0</td>\n",
       "      <td>11900.0</td>\n",
       "      <td>Autre</td>\n",
       "      <td>2020-02-18</td>\n",
       "      <td>FTTS</td>\n",
       "      <td>92</td>\n",
       "    </tr>\n",
       "    <tr>\n",
       "      <th>3</th>\n",
       "      <td>2019</td>\n",
       "      <td>2019-12-13</td>\n",
       "      <td>CU</td>\n",
       "      <td>Laayoune</td>\n",
       "      <td>CU Laayoune</td>\n",
       "      <td>LAA001</td>\n",
       "      <td>Autorisation N°19/743</td>\n",
       "      <td>200.0</td>\n",
       "      <td>6.0</td>\n",
       "      <td>1.0</td>\n",
       "      <td>100.0</td>\n",
       "      <td>1300.0</td>\n",
       "      <td>Autre</td>\n",
       "      <td>2020-03-13</td>\n",
       "      <td>FTTS</td>\n",
       "      <td>91</td>\n",
       "    </tr>\n",
       "    <tr>\n",
       "      <th>4</th>\n",
       "      <td>2022</td>\n",
       "      <td>2022-04-05</td>\n",
       "      <td>CU</td>\n",
       "      <td>Laayoune</td>\n",
       "      <td>CU Laayoune</td>\n",
       "      <td>LAA024</td>\n",
       "      <td>Autorisation N°22/186</td>\n",
       "      <td>670.0</td>\n",
       "      <td>6.0</td>\n",
       "      <td>0.0</td>\n",
       "      <td>400.0</td>\n",
       "      <td>4020.0</td>\n",
       "      <td>Autre</td>\n",
       "      <td>2022-07-05</td>\n",
       "      <td>FTTS</td>\n",
       "      <td>91</td>\n",
       "    </tr>\n",
       "  </tbody>\n",
       "</table>\n",
       "</div>"
      ],
      "text/plain": [
       "  Année  Date début Nature Entité      Ville Administration  \\\n",
       "0   2023 2023-10-02            CU   Laayoune    CU Laayoune   \n",
       "1   2023 2023-10-02            CU   Laayoune    CU Laayoune   \n",
       "2   2019 2019-11-18            CU   Laayoune    CU Laayoune   \n",
       "3   2019 2019-12-13            CU   Laayoune    CU Laayoune   \n",
       "4   2022 2022-04-05            CU   Laayoune    CU Laayoune   \n",
       "\n",
       "        Nom de projet     Nature du Document  Distance Autorisation / ml  \\\n",
       "0  Laayoune Centre A1  Autorisation N°23/370                      1089.0   \n",
       "1              LAA005  Autorisation N°23/369                      1750.0   \n",
       "2              LAA004  Autorisation N°18/758                      1900.0   \n",
       "3              LAA001  Autorisation N°19/743                       200.0   \n",
       "4              LAA024  Autorisation N°22/186                       670.0   \n",
       "\n",
       "   Redevance / ml  Nombre de chambres  Redevance / Chambre  Total Redevance  \\\n",
       "0             6.0                16.0                100.0           8134.0   \n",
       "1             6.0                25.0                100.0          13000.0   \n",
       "2             6.0                 5.0                100.0          11900.0   \n",
       "3             6.0                 1.0                100.0           1300.0   \n",
       "4             6.0                 0.0                400.0           4020.0   \n",
       "\n",
       "  Autorisation   Date Fin Programme  Durée en jours  \n",
       "0        Autre 2024-01-02      VULA              92  \n",
       "1        Autre 2024-01-02      FTTS              92  \n",
       "2        Autre 2020-02-18      FTTS              92  \n",
       "3        Autre 2020-03-13      FTTS              91  \n",
       "4        Autre 2022-07-05      FTTS              91  "
      ]
     },
     "execution_count": 93,
     "metadata": {},
     "output_type": "execute_result"
    }
   ],
   "source": [
    "df.head(5)"
   ]
  },
  {
   "cell_type": "code",
   "execution_count": 94,
   "id": "655be8dc-3004-4e8f-acc7-de1ea3536fe7",
   "metadata": {},
   "outputs": [
    {
     "name": "stdout",
     "output_type": "stream",
     "text": [
      "Nombre de villes uniques : 200\n"
     ]
    }
   ],
   "source": [
    "nombre_villes = df['Ville'].nunique()\n",
    "print(f\"Nombre de villes uniques : {nombre_villes}\")\n"
   ]
  },
  {
   "cell_type": "code",
   "execution_count": 102,
   "id": "d0643b5c-8d3b-47b7-a732-1f82d1da9467",
   "metadata": {},
   "outputs": [],
   "source": [
    "df.to_excel(r'C:\\Users\\ablab\\OneDrive\\Desktop\\math_project_2\\telecom -orange.xlsx', index=False)"
   ]
  },
  {
   "cell_type": "code",
   "execution_count": 83,
   "id": "a2998e73-b7be-4751-b4dd-97c66a19d02d",
   "metadata": {},
   "outputs": [
    {
     "data": {
      "text/html": [
       "<div>\n",
       "<style scoped>\n",
       "    .dataframe tbody tr th:only-of-type {\n",
       "        vertical-align: middle;\n",
       "    }\n",
       "\n",
       "    .dataframe tbody tr th {\n",
       "        vertical-align: top;\n",
       "    }\n",
       "\n",
       "    .dataframe thead th {\n",
       "        text-align: right;\n",
       "    }\n",
       "</style>\n",
       "<table border=\"1\" class=\"dataframe\">\n",
       "  <thead>\n",
       "    <tr style=\"text-align: right;\">\n",
       "      <th></th>\n",
       "      <th>Année de réalisation</th>\n",
       "      <th>Date début</th>\n",
       "      <th>Nature Entité</th>\n",
       "      <th>Ville</th>\n",
       "      <th>Administration</th>\n",
       "      <th>Nom de projet</th>\n",
       "      <th>Nature du Document</th>\n",
       "      <th>Distance Autorisation / ml</th>\n",
       "      <th>Redevance / ml</th>\n",
       "      <th>Nombre de chambres</th>\n",
       "      <th>Redevance / Chambre</th>\n",
       "      <th>Total Redevance</th>\n",
       "      <th>Autorisation</th>\n",
       "      <th>Date Fin</th>\n",
       "      <th>Programme</th>\n",
       "      <th>Durée en jours</th>\n",
       "      <th>Durée</th>\n",
       "    </tr>\n",
       "  </thead>\n",
       "  <tbody>\n",
       "    <tr>\n",
       "      <th>0</th>\n",
       "      <td>2023</td>\n",
       "      <td>2023-10-02</td>\n",
       "      <td>CU</td>\n",
       "      <td>Laayoune</td>\n",
       "      <td>CU Laayoune</td>\n",
       "      <td>Laayoune Centre A1</td>\n",
       "      <td>Autorisation N°23/370</td>\n",
       "      <td>1089.0</td>\n",
       "      <td>6.0</td>\n",
       "      <td>16.0</td>\n",
       "      <td>100.0</td>\n",
       "      <td>8134.0</td>\n",
       "      <td>Autre</td>\n",
       "      <td>2024-01-02</td>\n",
       "      <td>VULA</td>\n",
       "      <td>92</td>\n",
       "      <td>92</td>\n",
       "    </tr>\n",
       "    <tr>\n",
       "      <th>1</th>\n",
       "      <td>2023</td>\n",
       "      <td>2023-10-02</td>\n",
       "      <td>CU</td>\n",
       "      <td>Laayoune</td>\n",
       "      <td>CU Laayoune</td>\n",
       "      <td>LAA005</td>\n",
       "      <td>Autorisation N°23/369</td>\n",
       "      <td>1750.0</td>\n",
       "      <td>6.0</td>\n",
       "      <td>25.0</td>\n",
       "      <td>100.0</td>\n",
       "      <td>13000.0</td>\n",
       "      <td>Autre</td>\n",
       "      <td>2024-01-02</td>\n",
       "      <td>FTTS</td>\n",
       "      <td>92</td>\n",
       "      <td>92</td>\n",
       "    </tr>\n",
       "    <tr>\n",
       "      <th>2</th>\n",
       "      <td>2019</td>\n",
       "      <td>2019-11-18</td>\n",
       "      <td>CU</td>\n",
       "      <td>Laayoune</td>\n",
       "      <td>CU Laayoune</td>\n",
       "      <td>LAA004</td>\n",
       "      <td>Autorisation N°18/758</td>\n",
       "      <td>1900.0</td>\n",
       "      <td>6.0</td>\n",
       "      <td>5.0</td>\n",
       "      <td>100.0</td>\n",
       "      <td>11900.0</td>\n",
       "      <td>Autre</td>\n",
       "      <td>2020-02-18</td>\n",
       "      <td>FTTS</td>\n",
       "      <td>92</td>\n",
       "      <td>92</td>\n",
       "    </tr>\n",
       "    <tr>\n",
       "      <th>3</th>\n",
       "      <td>2019</td>\n",
       "      <td>2019-12-13</td>\n",
       "      <td>CU</td>\n",
       "      <td>Laayoune</td>\n",
       "      <td>CU Laayoune</td>\n",
       "      <td>LAA001</td>\n",
       "      <td>Autorisation N°19/743</td>\n",
       "      <td>200.0</td>\n",
       "      <td>6.0</td>\n",
       "      <td>1.0</td>\n",
       "      <td>100.0</td>\n",
       "      <td>1300.0</td>\n",
       "      <td>Autre</td>\n",
       "      <td>2020-03-13</td>\n",
       "      <td>FTTS</td>\n",
       "      <td>91</td>\n",
       "      <td>91</td>\n",
       "    </tr>\n",
       "    <tr>\n",
       "      <th>4</th>\n",
       "      <td>2022</td>\n",
       "      <td>2022-04-05</td>\n",
       "      <td>CU</td>\n",
       "      <td>Laayoune</td>\n",
       "      <td>CU Laayoune</td>\n",
       "      <td>LAA024</td>\n",
       "      <td>Autorisation N°22/186</td>\n",
       "      <td>670.0</td>\n",
       "      <td>6.0</td>\n",
       "      <td>0.0</td>\n",
       "      <td>400.0</td>\n",
       "      <td>4020.0</td>\n",
       "      <td>Autre</td>\n",
       "      <td>2022-07-05</td>\n",
       "      <td>FTTS</td>\n",
       "      <td>91</td>\n",
       "      <td>91</td>\n",
       "    </tr>\n",
       "  </tbody>\n",
       "</table>\n",
       "</div>"
      ],
      "text/plain": [
       "  Année de réalisation  Date début Nature Entité     Ville Administration  \\\n",
       "0                  2023 2023-10-02            CU  Laayoune    CU Laayoune   \n",
       "1                  2023 2023-10-02            CU  Laayoune    CU Laayoune   \n",
       "2                  2019 2019-11-18            CU  Laayoune    CU Laayoune   \n",
       "3                  2019 2019-12-13            CU  Laayoune    CU Laayoune   \n",
       "4                  2022 2022-04-05            CU  Laayoune    CU Laayoune   \n",
       "\n",
       "        Nom de projet     Nature du Document  Distance Autorisation / ml  \\\n",
       "0  Laayoune Centre A1  Autorisation N°23/370                      1089.0   \n",
       "1              LAA005  Autorisation N°23/369                      1750.0   \n",
       "2              LAA004  Autorisation N°18/758                      1900.0   \n",
       "3              LAA001  Autorisation N°19/743                       200.0   \n",
       "4              LAA024  Autorisation N°22/186                       670.0   \n",
       "\n",
       "   Redevance / ml  Nombre de chambres  Redevance / Chambre  Total Redevance  \\\n",
       "0             6.0                16.0                100.0           8134.0   \n",
       "1             6.0                25.0                100.0          13000.0   \n",
       "2             6.0                 5.0                100.0          11900.0   \n",
       "3             6.0                 1.0                100.0           1300.0   \n",
       "4             6.0                 0.0                400.0           4020.0   \n",
       "\n",
       "  Autorisation   Date Fin Programme  Durée en jours  Durée  \n",
       "0        Autre 2024-01-02      VULA              92     92  \n",
       "1        Autre 2024-01-02      FTTS              92     92  \n",
       "2        Autre 2020-02-18      FTTS              92     92  \n",
       "3        Autre 2020-03-13      FTTS              91     91  \n",
       "4        Autre 2022-07-05      FTTS              91     91  "
      ]
     },
     "execution_count": 83,
     "metadata": {},
     "output_type": "execute_result"
    }
   ],
   "source": [
    "df.head(5)"
   ]
  },
  {
   "cell_type": "code",
   "execution_count": 99,
   "id": "d3899f34-3196-42b7-a395-93a494f1b754",
   "metadata": {},
   "outputs": [
    {
     "name": "stdout",
     "output_type": "stream",
     "text": [
      "['Année de réalisation', 'Date début', 'Nature Entité', 'Ville', 'Administration', 'Nom de projet', 'Nature du Document', 'Distance Autorisation / ml', 'Redevance / ml', 'Nombre de chambres', 'Redevance / Chambre', 'Total Redevance', 'Autorisation', 'Date Fin', 'Programme', 'Durée en jours', 'Année ']\n"
     ]
    }
   ],
   "source": [
    "print(df.columns.tolist())\n"
   ]
  },
  {
   "cell_type": "code",
   "execution_count": 100,
   "id": "e0b8409a-e7ed-4e70-8d9e-fa9f137e1d1b",
   "metadata": {},
   "outputs": [],
   "source": [
    "df.columns = df.columns.str.strip()\n"
   ]
  },
  {
   "cell_type": "code",
   "execution_count": 101,
   "id": "b30a8ad1-3b06-47a2-ad67-81bb8cd68fcd",
   "metadata": {},
   "outputs": [
    {
     "name": "stdout",
     "output_type": "stream",
     "text": [
      "['Année de réalisation', 'Date début', 'Nature Entité', 'Ville', 'Administration', 'Nom de projet', 'Nature du Document', 'Distance Autorisation / ml', 'Redevance / ml', 'Nombre de chambres', 'Redevance / Chambre', 'Total Redevance', 'Autorisation', 'Date Fin', 'Programme', 'Durée en jours', 'Année']\n"
     ]
    }
   ],
   "source": [
    "print(df.columns.tolist())\n"
   ]
  },
  {
   "cell_type": "code",
   "execution_count": null,
   "id": "0927f221-c244-45eb-9149-dfa83bf644a8",
   "metadata": {},
   "outputs": [],
   "source": []
  }
 ],
 "metadata": {
  "kernelspec": {
   "display_name": "Python 3 (ipykernel)",
   "language": "python",
   "name": "python3"
  },
  "language_info": {
   "codemirror_mode": {
    "name": "ipython",
    "version": 3
   },
   "file_extension": ".py",
   "mimetype": "text/x-python",
   "name": "python",
   "nbconvert_exporter": "python",
   "pygments_lexer": "ipython3",
   "version": "3.11.7"
  }
 },
 "nbformat": 4,
 "nbformat_minor": 5
}
